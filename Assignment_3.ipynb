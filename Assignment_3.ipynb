{
  "nbformat": 4,
  "nbformat_minor": 0,
  "metadata": {
    "colab": {
      "name": "Assignment 3.ipynb",
      "provenance": [],
      "collapsed_sections": []
    },
    "kernelspec": {
      "name": "python3",
      "display_name": "Python 3"
    },
    "language_info": {
      "name": "python"
    }
  },
  "cells": [
    {
      "cell_type": "markdown",
      "metadata": {
        "id": "uD3MQJz8hDuT"
      },
      "source": [
        "# Assignment 3"
      ]
    },
    {
      "cell_type": "markdown",
      "metadata": {
        "id": "A0nUkEmGflNu"
      },
      "source": [
        "####Referral Id-SIRSS2223\n",
        "####Name-Aishwarya Rajesh Rule\n",
        "####College-Shah and Anchor Kutchhi Engineering College"
      ]
    },
    {
      "cell_type": "markdown",
      "metadata": {
        "id": "bP-CG2zxfQG-"
      },
      "source": [
        "Q1. Write a function to return nth term of Fibonacci sequence."
      ]
    },
    {
      "cell_type": "code",
      "metadata": {
        "colab": {
          "base_uri": "https://localhost:8080/"
        },
        "id": "iCdyJpU2LRE1",
        "outputId": "e9966f2a-f502-4b82-ff52-4cc6e76da585"
      },
      "source": [
        "k=int(input(\"Enter a number:\"))\n",
        "def fibo(n):\n",
        "  if n==1:\n",
        "    return 1\n",
        "  elif n==0:\n",
        "    return 0\n",
        "  else:\n",
        "    return fibo(n-1)+fibo(n-2)\n",
        "\n",
        "result=fibo(k)\n",
        "print(\"{0}th term of Fibonacci series is {1}\".format(k,result))"
      ],
      "execution_count": 16,
      "outputs": [
        {
          "output_type": "stream",
          "text": [
            "Enter a number:7\n",
            "7th term of Fibonacci series is 13\n"
          ],
          "name": "stdout"
        }
      ]
    },
    {
      "cell_type": "markdown",
      "metadata": {
        "id": "WfKKIQE8fSwy"
      },
      "source": [
        "Q2. Write a function to find out GCD of two numbers using EUCLID'S algorithm."
      ]
    },
    {
      "cell_type": "code",
      "metadata": {
        "colab": {
          "base_uri": "https://localhost:8080/"
        },
        "id": "2_0mr-wJL5Um",
        "outputId": "d5658ab2-6c6b-4b54-8504-b8ffd60c5d26"
      },
      "source": [
        "n1=int(input(\"Enter first number:\"))\n",
        "n2=int(input(\"Enter second number:\"))\n",
        "min1=min(n1,n2)\n",
        "res=1\n",
        "for i in range(2,min1+1):\n",
        "  if ((n1%i==0) and (n2%i==0)):\n",
        "    res=i\n",
        "\n",
        "print(\"GCD of {0} and {1} is {2}\".format(n1,n2,res))"
      ],
      "execution_count": 17,
      "outputs": [
        {
          "output_type": "stream",
          "text": [
            "Enter first number:56\n",
            "Enter second number:45\n",
            "GCD of 56 and 45 is 1\n"
          ],
          "name": "stdout"
        }
      ]
    },
    {
      "cell_type": "markdown",
      "metadata": {
        "id": "u9al_W8ffWYQ"
      },
      "source": [
        "Q3. Write a function to find LCM of two number in most optimizers way."
      ]
    },
    {
      "cell_type": "code",
      "metadata": {
        "colab": {
          "base_uri": "https://localhost:8080/"
        },
        "id": "ZJqIKD9hcEu8",
        "outputId": "c4506d9d-28f1-44b5-a1ef-1c3e67ff51cf"
      },
      "source": [
        "n1=int(input(\"Enter first number:\"))\n",
        "n2=int(input(\"Enter second number:\"))\n",
        "j=max(n1,n2)\n",
        "while(True):\n",
        "  if (j%n1==0) and (j%n2==0):\n",
        "    result=j\n",
        "    break\n",
        "  else:\n",
        "    j=j+1\n",
        "\n",
        "print(\"LCM of {0} and {1} is {2}\".format(n1,n2,result))"
      ],
      "execution_count": 18,
      "outputs": [
        {
          "output_type": "stream",
          "text": [
            "Enter first number:45\n",
            "Enter second number:34\n",
            "LCM of 45 and 34 is 1530\n"
          ],
          "name": "stdout"
        }
      ]
    },
    {
      "cell_type": "code",
      "metadata": {
        "id": "bYuM-7pacLdp"
      },
      "source": [
        ""
      ],
      "execution_count": null,
      "outputs": []
    }
  ]
}